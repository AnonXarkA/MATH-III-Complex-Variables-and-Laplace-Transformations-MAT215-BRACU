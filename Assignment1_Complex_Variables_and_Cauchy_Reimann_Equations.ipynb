{
 "cells": [
  {
   "cell_type": "markdown",
   "metadata": {
    "id": "JbVYw2ccWwbc"
   },
   "source": [
    "#**Complex Variables and Cauchy-Reimann Equations**"
   ]
  },
  {
   "cell_type": "markdown",
   "metadata": {
    "id": "du_9rFjDx059"
   },
   "source": [
    "Make sure you remove and fill in any place that says `# YOUR CODE HERE`, as well as your `NAME`, `ID`, and `LAB_SECTION` below:"
   ]
  },
  {
   "cell_type": "code",
   "execution_count": 13,
   "metadata": {
    "id": "YjhULhXxx6bC"
   },
   "outputs": [],
   "source": [
    "NAME = \"\"\n",
    "ID = \"\"\n",
    "LAB_SECTION = \"02\""
   ]
  },
  {
   "cell_type": "code",
   "execution_count": 14,
   "metadata": {
    "id": "VyU0ct1VWOvU"
   },
   "outputs": [],
   "source": [
    "# Importing necessary libraries\n",
    "\n",
    "import sympy as sp\n",
    "import numpy as np\n",
    "import math\n",
    "import cmath"
   ]
  },
  {
   "cell_type": "markdown",
   "metadata": {
    "id": "5pfbNzbhXGuT"
   },
   "source": [
    "##Part 1: Complex Variables\n"
   ]
  },
  {
   "cell_type": "code",
   "execution_count": 15,
   "metadata": {
    "colab": {
     "base_uri": "https://localhost:8080/"
    },
    "id": "tPuM1EXnY5Jq",
    "outputId": "e9685e83-8117-4487-b685-c6c6eb95af7a"
   },
   "outputs": [
    {
     "name": "stdout",
     "output_type": "stream",
     "text": [
      "3.0\n",
      "2.0\n",
      "3.00000000000000\n",
      "2.00000000000000\n"
     ]
    }
   ],
   "source": [
    "#Accessing Real and Imaginary Parts\n",
    "z1 = 3 + 2j\n",
    "print(z1.real)\n",
    "print(z1.imag)\n",
    "\n",
    "#Using Sympy\n",
    "print(sp.re(z1))\n",
    "print(sp.im(z1))"
   ]
  },
  {
   "cell_type": "code",
   "execution_count": 16,
   "metadata": {
    "colab": {
     "base_uri": "https://localhost:8080/"
    },
    "id": "WDXWi2e4ZwWv",
    "outputId": "642aae24-0d90-4e25-a864-1b76c6e9ba9c"
   },
   "outputs": [
    {
     "name": "stdout",
     "output_type": "stream",
     "text": [
      "(3-2j)\n",
      "3.0 - 2.0*I\n"
     ]
    }
   ],
   "source": [
    "#Calculating the Conjugate of a Complex Number\n",
    "z2 = 3 + 2j\n",
    "print(z2.conjugate())\n",
    "print(sp.conjugate(z2))  #Using Sympy\n"
   ]
  },
  {
   "cell_type": "code",
   "execution_count": 17,
   "metadata": {
    "colab": {
     "base_uri": "https://localhost:8080/"
    },
    "id": "uiiRWYH_aJ5E",
    "outputId": "d3a6b9fe-1635-496e-f70e-56858baebbc0"
   },
   "outputs": [
    {
     "name": "stdout",
     "output_type": "stream",
     "text": [
      "(6+8j)\n",
      "(-2-2j)\n",
      "(-7+22j)\n",
      "(0.5609756097560976+0.0487804878048781j)\n",
      "(-5+12j)\n",
      "3.605551275463989\n"
     ]
    }
   ],
   "source": [
    "#Complex Numbers Arithmetic\n",
    "\n",
    "z1 = 2 + 3j\n",
    "z2 = 4 + 5j\n",
    "print(z1 + z2) #Addition\n",
    "print(z1 - z2) #Subtraction\n",
    "\n",
    "# z1*z2 = (x1*x2-y1*y2)+(x1*y2+x2*y1)i\n",
    "print(z1 * z2) #Multiplication\n",
    "\n",
    "print(z1 /z2) #Division\n",
    "print(z1**2)  #Exponent\n",
    "\n",
    "print(abs(z1)) #Magnitude, |z1|"
   ]
  },
  {
   "cell_type": "markdown",
   "metadata": {
    "id": "E9f5H8-Acc9k"
   },
   "source": [
    "###Extracting the Root of a Complex Number\n",
    "\n",
    "A fourth-degree polynomial $x^4 + 1$, which can be written as an equation $x^4 = -1$, has four complex roots:\n",
    "\n",
    "$$z_0 = -√2/2 + (√2/2)i$$\n",
    "$$z_1 = -√2/2 - (√2/2)i$$\n",
    "$$z_2 = √2/2 + (√2/2)i$$\n",
    "$$z_3 = √2/2 - (√2/2)i$$\n",
    "\n",
    "The mathematical formula for finding all complex roots takes advantage of the trigonometric form of complex numbers:\n",
    "\n",
    "$$z_{k}=r\\left(\\cos \\left(\\varphi+\\frac{2 \\pi k}{n}\\right)+j \\sin \\left(\\varphi+\\frac{2 \\pi k}{n}\\right)\\right)$$"
   ]
  },
  {
   "cell_type": "code",
   "execution_count": 18,
   "metadata": {
    "colab": {
     "base_uri": "https://localhost:8080/"
    },
    "id": "TB2_CtQ8eCVu",
    "outputId": "8caf77ab-a972-4b3a-d4ae-eb603fcaef2b"
   },
   "outputs": [
    {
     "name": "stdout",
     "output_type": "stream",
     "text": [
      "[-0.70710678+0.70710678j -0.70710678-0.70710678j  0.70710678+0.70710678j\n",
      "  0.70710678-0.70710678j]\n"
     ]
    }
   ],
   "source": [
    "print(np.roots([1, 0, 0, 0, 1]))  # Coefficients of the polynomial x**4 + 1"
   ]
  },
  {
   "cell_type": "code",
   "execution_count": 19,
   "metadata": {
    "colab": {
     "base_uri": "https://localhost:8080/",
     "height": 165
    },
    "id": "h7FxtUvfeQjV",
    "outputId": "12f91a74-7794-4999-b7a9-ab81b61a5838"
   },
   "outputs": [
    {
     "ename": "ValueError",
     "evalue": "math domain error",
     "output_type": "error",
     "traceback": [
      "\u001b[1;31m---------------------------------------------------------------------------\u001b[0m",
      "\u001b[1;31mValueError\u001b[0m                                Traceback (most recent call last)",
      "\u001b[1;32m~\\AppData\\Local\\Temp/ipykernel_14868/2400058824.py\u001b[0m in \u001b[0;36m<module>\u001b[1;34m\u001b[0m\n\u001b[1;32m----> 1\u001b[1;33m \u001b[0mprint\u001b[0m\u001b[1;33m(\u001b[0m\u001b[0mmath\u001b[0m\u001b[1;33m.\u001b[0m\u001b[0msqrt\u001b[0m\u001b[1;33m(\u001b[0m\u001b[1;33m-\u001b[0m\u001b[1;36m1\u001b[0m\u001b[1;33m)\u001b[0m\u001b[1;33m)\u001b[0m \u001b[1;31m#produces error\u001b[0m\u001b[1;33m\u001b[0m\u001b[1;33m\u001b[0m\u001b[0m\n\u001b[0m",
      "\u001b[1;31mValueError\u001b[0m: math domain error"
     ]
    }
   ],
   "source": [
    "print(math.sqrt(-1)) #produces error"
   ]
  },
  {
   "cell_type": "code",
   "execution_count": 20,
   "metadata": {
    "colab": {
     "base_uri": "https://localhost:8080/"
    },
    "id": "3tPlyqwJeanx",
    "outputId": "48ff98de-76dc-469a-9ae3-22ca4ce78007"
   },
   "outputs": [
    {
     "name": "stdout",
     "output_type": "stream",
     "text": [
      "1j\n"
     ]
    }
   ],
   "source": [
    "print(cmath.sqrt(-1)) "
   ]
  },
  {
   "cell_type": "markdown",
   "metadata": {
    "id": "PGgndgYte6cA"
   },
   "source": [
    "###Task 1: Find the three solutions of the equation, $x^3+1=0$"
   ]
  },
  {
   "cell_type": "code",
   "execution_count": 21,
   "metadata": {
    "colab": {
     "base_uri": "https://localhost:8080/"
    },
    "id": "XNICv1ouezsb",
    "outputId": "71ca6ce7-99f6-496a-c549-f38e6c3e04a5"
   },
   "outputs": [
    {
     "name": "stdout",
     "output_type": "stream",
     "text": [
      "[-1. +0.j         0.5+0.8660254j  0.5-0.8660254j]\n"
     ]
    }
   ],
   "source": [
    "# YOUR CODE HERE\n",
    "print(np.roots([1,0,0,1]))"
   ]
  },
  {
   "cell_type": "markdown",
   "metadata": {
    "id": "Hj0XBEw4hrKR"
   },
   "source": [
    "###Converting Between Cartesian and Polar Form\n",
    "\n",
    "Cartesian Form\t$$z = x + yi$$\n",
    "\n",
    "Polar Form $$\n",
    "z=x+i y=r(\\cos \\phi+i \\sin \\phi)=r e^{i \\phi}\n",
    "$$\n",
    "\n",
    "$$r=|z|=\\sqrt(x^2+y^2)$$\n",
    "\n",
    "$$\n",
    "\\phi=\\tan ^{-1}\\left(\\frac{y}{x}\\right)\n",
    "$$"
   ]
  },
  {
   "cell_type": "code",
   "execution_count": 22,
   "metadata": {
    "colab": {
     "base_uri": "https://localhost:8080/"
    },
    "id": "Fx-X6K2Ijsrx",
    "outputId": "cd14ff52-2971-4bf4-c24f-30c4955b035f"
   },
   "outputs": [
    {
     "name": "stdout",
     "output_type": "stream",
     "text": [
      "3.605551275463989 0.5880026035475675\n",
      "3.605551275463989 0.5880026035475675\n",
      "True\n",
      "True\n"
     ]
    }
   ],
   "source": [
    "z0 = 3 + 2j\n",
    "angle=math.atan(z0.imag / z0.real)\n",
    "radius=abs(z0)\n",
    "print(radius,angle)\n",
    "radius1, angle1 = cmath.polar(z0)\n",
    "print(radius1,angle1)\n",
    "print(cmath.isclose(radius, radius1))\n",
    "print(cmath.isclose(angle, angle1))"
   ]
  },
  {
   "cell_type": "markdown",
   "metadata": {
    "id": "eaQ53CVWkwsm"
   },
   "source": [
    "###Task 2: Find the equivalent polar form of $z=34+27i$, and convert it back to cartesian form to see if they are equal.\n",
    "\n",
    "*Hint: You may want to look into `cmath.rect()`, to convert back.*"
   ]
  },
  {
   "cell_type": "code",
   "execution_count": 23,
   "metadata": {
    "colab": {
     "base_uri": "https://localhost:8080/"
    },
    "id": "BP9WZt1zgncB",
    "outputId": "5a734528-2e02-47fe-e2fb-f79fcb72eb47"
   },
   "outputs": [
    {
     "name": "stdout",
     "output_type": "stream",
     "text": [
      "43.41658669218482 0.6711438354360088\n",
      "43.41658669218482 0.6711438354360088\n",
      "(34+27j)\n"
     ]
    }
   ],
   "source": [
    "# YOUR CODE HERE\n",
    "\n",
    "z_0 = 34 + 27j\n",
    "angl= math.atan(z_0.imag / z_0.real)\n",
    "radius = abs(z_0)\n",
    "print(radius,angl)\n",
    "\n",
    "rdius1 , angl1 = cmath.polar(z_0)\n",
    "print(rdius1,angl1)\n",
    "\n",
    "z = cmath.rect(rdius1,angl1) \n",
    "\n",
    "print(z)"
   ]
  },
  {
   "cell_type": "markdown",
   "metadata": {
    "id": "lVeLMPskJv76"
   },
   "source": [
    "##Part 2: Cauchy-Reimann Equations\n",
    "\n",
    "Given that a function $f$ can be expressed as such,\n",
    "$$\n",
    "f(z) = u(x, y) + iv(x, y)\n",
    "$$\n",
    "\n",
    "and if a derivative of $f$ exists at $z_0 = (x_0, y_0),$ then the\n",
    "first-order partial derivatives of the component functions of\n",
    "$f$, which are $u$ and $v$, must satisfy a pair of equations known\n",
    "as the Cauchy-Riemann equations.\n",
    "\n",
    "Let us first take the following:\n",
    "$$\n",
    "z_0 = x_0 + iy_0 , $$   \n",
    "$$∆z = ∆x + i∆y,$$\n",
    "\n",
    "and,\n",
    "$$∆w = f(z_0 + ∆z) − f(z_0)$$\n",
    "\n",
    "Now, assuming that the following derivative exists:\n",
    "$$\n",
    "f^{\\prime}\\left(z_{0}\\right)=\\lim _{\\Delta z \\rightarrow 0} \\frac{\\Delta w}{\\Delta z}\n",
    "$$\n",
    "\n",
    "Isolating each of the real and imaginary limit components and then finding out their first-order partial derivatives with respect to $x$ then gives us:\n",
    "\n",
    "$$\n",
    "\\begin{aligned}\n",
    "\\lim _{(\\Delta x, \\Delta y) \\rightarrow(0,0)}\\left(R e \\frac{\\Delta w}{\\Delta z}\\right) &=\\lim _{\\Delta x \\rightarrow 0} \\frac{u\\left(x_{0}+\\Delta x, y_{0}\\right)-u\\left(x_{0}, y_{0}\\right)}{\\Delta x} \\\\\n",
    "&=u_{x}\\left(x_{0}, y_{0}\\right)\n",
    "\\end{aligned}\n",
    "$$\n",
    "\n",
    "and\n",
    "\n",
    "$$\n",
    "\\begin{aligned}\n",
    "\\lim _{(\\Delta x, \\Delta y) \\rightarrow(0,0)}\\left(\\operatorname{Im} \\frac{\\Delta w}{\\Delta z}\\right) &=\\lim _{\\Delta x \\rightarrow 0} \\frac{v\\left(x_{0}+\\Delta x, y_{0}\\right)-v\\left(x_{0}, y_{0}\\right)}{\\Delta x} \\\\\n",
    "&=v_{x}\\left(x_{0}, y_{0}\\right)\n",
    "\\end{aligned}\n",
    "$$\n",
    "\n",
    "On substituting the previous two equations, we get:\n",
    "\n",
    "$$f'(z_0) = u_x(x_0, y_0) + iv_x(x_0, y_0) $$\n",
    "\n",
    "On finding the partial first-derivatives of $u$ and $v$ with respect to $y$,\n",
    "we get:\n",
    "\n",
    "$$\n",
    "\\begin{aligned}\n",
    "\\lim _{(\\Delta x, \\Delta y) \\rightarrow(0,0)}\\left(R e \\frac{\\Delta w}{\\Delta z}\\right) &=\\lim _{\\Delta y \\rightarrow 0} \\frac{v\\left(x_{0}+\\Delta y, y_{0}\\right)-v\\left(x_{0}, y_{0}\\right)}{\\Delta y} \\\\\n",
    "&=v_{y}\\left(x_{0}, y_{0}\\right)\n",
    "\\end{aligned}\n",
    "$$\n",
    "and\n",
    "$$\n",
    "\\begin{aligned}\n",
    "\\lim _{(\\Delta x, \\Delta y) \\rightarrow(0,0)}\\left(\\operatorname{Im} \\frac{\\Delta w}{\\Delta z}\\right) &=\\lim _{\\Delta y \\rightarrow 0} \\frac{u\\left(x_{0}+\\Delta y, y_{0}\\right)-u\\left(x_{0}, y_{0}\\right)}{\\Delta y} \\\\\n",
    "&=v_{y}\\left(x_{0}, y_{0}\\right)\n",
    "\\end{aligned}\n",
    "$$\n",
    "\n",
    "Hence, the equations abides as such:\n",
    "\n",
    "$$f'(z_0) = −i[u_y(x_0, y_0) + iv_y(x_0, y_0)]$$\n",
    "\n",
    "By individually equating the real parts and imaginary parts of each\n",
    "of these two equations of $f'(z_0)$, we get the Cauchy-Riemann equations:\n",
    "\n",
    "$$u_x(x_0, y_0) = v_y(x_0, y_0) $$\n",
    "and $$u_y(x_0, y_0) = −v_x(x_0, y_0)$$\n",
    "\n",
    "\n",
    "\n",
    "###Task 3: Complete the code below:\n",
    "\n",
    "For this example, we will use a $f(z)$ to find it's Cauchy-Reimann Equations, and thus determining whether it is differentiable or not.\n",
    "\n",
    "\n",
    "\n",
    "*Hint: You will need `Sympy` to solve this problem. To learn more about `Sympy`, click [here](https://pianofisica.hatenablog.com/entry/2020/05/12/173000#Complex-number)*."
   ]
  },
  {
   "cell_type": "code",
   "execution_count": 24,
   "metadata": {
    "id": "xoq2HR8jy4d-"
   },
   "outputs": [],
   "source": [
    "def CR_Equations(f):\n",
    "    \n",
    "\n",
    "\n",
    "  # YOUR CODE HERE\n",
    "\n",
    "\n",
    "\n",
    "  u= sp.re(f)\n",
    "  v= sp.im(f)\n",
    "  u_x= sp.diff(u,x)\n",
    "  u_y= sp.diff(u,y)\n",
    "  v_x= sp.diff(v,x)\n",
    "  v_y= sp.diff(v,y)\n",
    "  minus_v_x = -1 *v_x\n",
    "\n",
    "  print(\"f = \"+str(f))\n",
    "  print(\"u = \"+str(u))\n",
    "  print(\"v = \"+str(v))\n",
    "  print(\"u_x = \"+str(u_x))\n",
    "  print(\"u_y = \"+str(u_y))\n",
    "  print(\"v_x = \"+str(v_x))\n",
    "  print(\"v_y = \"+str(v_y))\n",
    "\n",
    "  if u_x == v_y and u_y == minus_v_x:\n",
    "    return \"The function f = \"+str(f)+\" satisfies the Cauchy–Riemann Equations and is differentiable at z = z0 ∈ C.\"\n",
    "  else:\n",
    "    return \"The function f = \"+str(f)+\" does not satisfy the Cauchy–Riemann Equations, so f is nowhere differentiable.\""
   ]
  },
  {
   "cell_type": "markdown",
   "metadata": {
    "id": "Vj90pHyCTqdd"
   },
   "source": [
    "###3.1. Use Cauchy-Riemann equations to prove that $f(z)=z^2$ is differentiable at $z=z_0∈ C.$\n",
    "\n",
    "###3.2. Use Cauchy-Riemann equations to show that $f(z)=\\bar{z}$ is nowhere differentiable.\n"
   ]
  },
  {
   "cell_type": "code",
   "execution_count": 25,
   "metadata": {
    "colab": {
     "base_uri": "https://localhost:8080/"
    },
    "id": "8KNOcpHRzhxO",
    "outputId": "76d5ab70-b938-412a-f8b7-bcb76b6976cd"
   },
   "outputs": [
    {
     "name": "stdout",
     "output_type": "stream",
     "text": [
      "x**2 - y**2\n",
      "f = (x + I*y)**2\n",
      "u = x**2 - y**2\n",
      "v = 2*x*y\n",
      "u_x = 2*x\n",
      "u_y = -2*y\n",
      "v_x = 2*y\n",
      "v_y = 2*x\n",
      "The function f = (x + I*y)**2 satisfies the Cauchy–Riemann Equations and is differentiable at z = z0 ∈ C.\n",
      "f = x - I*y\n",
      "u = x\n",
      "v = -y\n",
      "u_x = 1\n",
      "u_y = 0\n",
      "v_x = 0\n",
      "v_y = -1\n",
      "The function f = x - I*y does not satisfy the Cauchy–Riemann Equations, so f is nowhere differentiable.\n"
     ]
    }
   ],
   "source": [
    "z = sp.symbols('z', complex=True)\n",
    "x = sp.symbols('x', real=True)\n",
    "y = sp.symbols('y', real=True)\n",
    "z=(x+sp.I*y)\n",
    "\n",
    "m = z**2\n",
    "zbar = z.conjugate()\n",
    "\n",
    "print(sp.re(m))\n",
    "print(CR_Equations(m))\n",
    "print(CR_Equations(zbar))\n",
    "\n",
    "# print(CR_Equations(?))"
   ]
  },
  {
   "cell_type": "code",
   "execution_count": null,
   "metadata": {},
   "outputs": [],
   "source": []
  },
  {
   "cell_type": "code",
   "execution_count": null,
   "metadata": {},
   "outputs": [],
   "source": []
  },
  {
   "cell_type": "code",
   "execution_count": null,
   "metadata": {},
   "outputs": [],
   "source": []
  }
 ],
 "metadata": {
  "colab": {
   "name": "20301066_2_Assignment1_Complex Variables and Cauchy-Reimann Equations.ipynb",
   "provenance": []
  },
  "kernelspec": {
   "display_name": "Python 3 (ipykernel)",
   "language": "python",
   "name": "python3"
  },
  "language_info": {
   "codemirror_mode": {
    "name": "ipython",
    "version": 3
   },
   "file_extension": ".py",
   "mimetype": "text/x-python",
   "name": "python",
   "nbconvert_exporter": "python",
   "pygments_lexer": "ipython3",
   "version": "3.9.7"
  }
 },
 "nbformat": 4,
 "nbformat_minor": 1
}
