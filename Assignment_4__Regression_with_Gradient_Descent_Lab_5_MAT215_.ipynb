{
 "cells": [
  {
   "cell_type": "markdown",
   "metadata": {
    "id": "wCROfJBvR6Ha"
   },
   "source": [
    "\n",
    "#Linear Regression with Gradient Descent\n"
   ]
  },
  {
   "cell_type": "markdown",
   "metadata": {
    "id": "NS83wjOHSJep"
   },
   "source": [
    "Make sure you remove and fill in any place that says `# YOUR CODE HERE`, as well as your `NAME`, `ID`, and `LAB_SECTION` below:"
   ]
  },
  {
   "cell_type": "code",
   "execution_count": 1,
   "metadata": {
    "id": "BmKDqepsSQRV"
   },
   "outputs": [],
   "source": [
    "NAME = \"\"\n",
    "ID = \"\"\n",
    "LAB_SECTION = \"02\" "
   ]
  },
  {
   "cell_type": "markdown",
   "metadata": {
    "id": "Ib7p4kInJulS"
   },
   "source": [
    "Linear regression analysis is used to predict the value of a variable based on the value of another variable. The variable you want to predict is called the dependent variable. The variable you are using to predict the other variable's value is called the independent variable. \n",
    "\n",
    "This form of analysis estimates the coefficients of the linear equation, involving one or more independent variables that best predict the value of the dependent variable. Linear regression fits a straight line or surface that minimizes the discrepancies between predicted and actual output values. There are simple linear regression calculators that use a “least squares” method to discover the best-fit line for a set of paired data. You then estimate the value of X (dependent variable) from Y (independent variable). The data points can be in N-dimensional space. For simplicity of visualization, we'll only work with 2d data points for now. \n",
    "\n",
    "Let's create a set of 50 data points $(X_i,Y_i)$ where $X$ is a value between 0 to 200 and $Y = 2X - 3 + \\Delta$ where, $\\Delta$ is a random value between -20 to 20."
   ]
  },
  {
   "cell_type": "code",
   "execution_count": 2,
   "metadata": {
    "id": "rrG584tI4ljk"
   },
   "outputs": [],
   "source": [
    "import numpy as np\n",
    "import sympy as sp\n",
    "\n",
    "X = np.linspace(0, 200, 50)  #generating 50 X between 0 to 200 with uniform difference between each value\n",
    "delta = np.random.uniform(-20, 20, X.size) # generating randon delta\n",
    "Y = 2*X - 3 + delta #calculating Y\n"
   ]
  },
  {
   "cell_type": "markdown",
   "metadata": {
    "id": "rSCNvLY6LzMY"
   },
   "source": [
    "Let's plot the data!"
   ]
  },
  {
   "cell_type": "code",
   "execution_count": 3,
   "metadata": {
    "colab": {
     "base_uri": "https://localhost:8080/",
     "height": 282
    },
    "id": "k30jMyt5LyCO",
    "outputId": "8cdb2d11-4913-41f5-bd75-ae4f806836bf"
   },
   "outputs": [
    {
     "data": {
      "text/plain": [
       "<matplotlib.collections.PathCollection at 0x7fa784b9f150>"
      ]
     },
     "execution_count": 3,
     "metadata": {},
     "output_type": "execute_result"
    },
    {
     "data": {
      "image/png": "[encoded data removed]",
      "text/plain": [
       "<Figure size 432x288 with 1 Axes>"
      ]
     },
     "metadata": {
      "needs_background": "light"
     },
     "output_type": "display_data"
    }
   ],
   "source": [
    "import matplotlib.pyplot as plt\n",
    "plt.scatter(X, Y)"
   ]
  },
  {
   "cell_type": "markdown",
   "metadata": {
    "id": "MkDEVJ0XMkAy"
   },
   "source": [
    "If we take a look at the plot. It becomes intuitively clear that a straight line can somewhat fit this set of data. the equation of a 2 dimensional straight line is,\n",
    "$$y = mx + b$$ \n",
    "\n",
    "We know the values of $x$ and $y$, how do we calculate $m$ and $b$?\n",
    "\n",
    "The trick is to randomly choose values for $m$ and $b$ at ftrst and calculate $y$ for them. Obviously, this will produce some error. We calculate the amount of error using an error function which is,\n",
    "\n",
    "$$e(m,b) = \\frac{1}{2N}((Y - (mX + b))^2)$$\n",
    "or,\n",
    "$$e(m,b) = \\frac{1}{2N}((Y - y)^2)$$\n",
    "\n",
    "Where, Y is the actual value and $mX+b$ or $y$ is the predicted value with the randomly generated $m$ and $b$\n",
    "\n",
    "Once we generate the initial $m$ and $b$, then we need to find the correct $m$ and $b$ using an iteative way. In order to do that, we calculate the gradient of the error function. The gradients of the error function are the partial derivative of the error function with respect to all the unknowns. There are two unknowns in our error function, Namely $m$ and $b$. So, the partial derivatives are,\n",
    "\n",
    "$$ \\frac{\\partial e(m,b)}{\\partial b} = \\frac{1}{N}(b+mx-y)$$\n",
    "$$ \\frac{\\partial e(m,b)}{\\partial m} = \\frac{1}{N}(-x*(y-mx-b))$$\n",
    "\n",
    "Once we figure out the derivatives, we calculate the gradient using all the data points,\n",
    "\n",
    "$$gradient_b = \\frac{1}{N} \\sum_{n=1}^{N} (b+mx_n-y_n)$$\n",
    "$$gradient_m = \\frac{1}{N} \\sum_{n=1}^{N} (-x_n*(y_n-mx_n-b))$$\n",
    "\n",
    "Finally, we do,\n",
    "\n",
    "$$m = m - \\alpha * gradient_m$$\n",
    "$$b = b - \\alpha * gradient_b$$\n",
    "\n",
    "Here, $\\alpha$ is a learning rate that is used to control the speed of correction. Choosing a very big $\\alpha$ in gradient descent may cause divergent and choosing a very small $\\alpha$ will make the learning process really slow.\n",
    "\n",
    "We keep on repeating this process to find the optimal $m$ and $b$ and the error gets reduced. After sufficient amount of iterations, we should find the $m$ and $b$ that optimally fits the data points"
   ]
  },
  {
   "cell_type": "markdown",
   "metadata": {
    "id": "MpEP1NiPN17Z"
   },
   "source": [
    "##Task 1\n",
    "\n",
    "Complete the `gradient_descent` function below. You do not need to work on the graphs below. If the function is finished properly, you shloud see logical graphs as outputs."
   ]
  },
  {
   "cell_type": "code",
   "execution_count": 4,
   "metadata": {
    "id": "EYw2DgXR96aQ"
   },
   "outputs": [],
   "source": [
    "def gradient_descent (b_val, m_val, x_val, y_val, learning_rate, num_iterations):\n",
    " \n",
    "    #Defining the error function \n",
    "    x,y,m,b,n = sp.symbols('s y m b n')\n",
    "    m_val = float(len(x_val))\n",
    "    n_val = len(x_val)\n",
    "    error_function = (1/(2*n_val))*((y_val - (m_val*x_val + b_val))**2)\n",
    "    \n",
    "    #calcule the partial derivatives\n",
    "    \n",
    "    error_function_b = (1/n_val)*(b_val + m_val*x_val - y_val)\n",
    "    error_function_m = (1/n_val)*((y_val-  m_val*x_val - b_val)*-x_val )\n",
    "    \n",
    "    #repeat for num_iterations\n",
    "    for j in range(num_iterations):\n",
    "        b_gradient = 0\n",
    "        m_gradient = 0\n",
    "       \n",
    "        for i in range(n_val):\n",
    "            b_gradient = (b_val + m_val*x_val[i] - y_val[i])\n",
    "            m_gradient = ((y_val[i]-  m_val*x_val[i] - b_val)-x_val[i] *-x_val[i] )\n",
    "        \n",
    "        b_gradient = b_gradient / n_val\n",
    "        m_gradient = m_gradient / n_val\n",
    "\n",
    "        #update the value for b and m\n",
    "        b_val = b_val - learning_rate * b_gradient\n",
    "        m_val = m_val - learning_rate * m_gradient\n",
    "\n",
    "    return [b_val, m_val]"
   ]
  },
  {
   "cell_type": "markdown",
   "metadata": {
    "id": "MiUoasvKVCIU"
   },
   "source": [
    "Inntially we are randomly taking $m$ and $b$ to be 0, which will produce not so correct predictions."
   ]
  },
  {
   "cell_type": "code",
   "execution_count": 5,
   "metadata": {
    "colab": {
     "base_uri": "https://localhost:8080/",
     "height": 282
    },
    "id": "H_0BOcLLB2I4",
    "outputId": "3a80d862-cead-4f85-a1b7-a2b60d216d68"
   },
   "outputs": [
    {
     "data": {
      "text/plain": [
       "[<matplotlib.lines.Line2D at 0x7fa7846a1690>]"
      ]
     },
     "execution_count": 5,
     "metadata": {},
     "output_type": "execute_result"
    },
    {
     "data": {
      "image/png": "[encoded data removed]",
      "text/plain": [
       "<Figure size 432x288 with 1 Axes>"
      ]
     },
     "metadata": {
      "needs_background": "light"
     },
     "output_type": "display_data"
    }
   ],
   "source": [
    "m_val = 0\n",
    "b_val = 0\n",
    "\n",
    "predictions = [(m_val * X[i]) + b_val for i in range(len(X))]\n",
    "plt.scatter(X, Y)\n",
    "plt.plot(X, predictions, color='r')"
   ]
  },
  {
   "cell_type": "markdown",
   "metadata": {
    "id": "YwjXtJz-VRp9"
   },
   "source": [
    "\n",
    "Here, we will use 2 iterations to see that our prediction have improved slightly."
   ]
  },
  {
   "cell_type": "code",
   "execution_count": 6,
   "metadata": {
    "colab": {
     "base_uri": "https://localhost:8080/",
     "height": 282
    },
    "id": "cJV5CEEvGNpt",
    "outputId": "f09e62ec-2e6d-4e70-c0ec-42c840481c39"
   },
   "outputs": [
    {
     "data": {
      "text/plain": [
       "[<matplotlib.lines.Line2D at 0x7fa784625950>]"
      ]
     },
     "execution_count": 6,
     "metadata": {},
     "output_type": "execute_result"
    },
    {
     "data": {
      "image/png": "[encoded data removed]",
      "text/plain": [
       "<Figure size 432x288 with 1 Axes>"
      ]
     },
     "metadata": {
      "needs_background": "light"
     },
     "output_type": "display_data"
    }
   ],
   "source": [
    "vals = gradient_descent(0, 0, X, Y, .0001, 2)\n",
    "m_val = vals[1]\n",
    "b_val = vals[0]\n",
    "predictions = [(m_val * X[i]) + b_val for i in range(len(X))]\n",
    "plt.scatter(X, Y)\n",
    "plt.plot(X, predictions, color='r')"
   ]
  },
  {
   "cell_type": "markdown",
   "metadata": {
    "id": "DiO1abxJVYtR"
   },
   "source": [
    "\n",
    "\n",
    "\n",
    "\n",
    "Now we will perform 10 iterations. We should see very accurate results here."
   ]
  },
  {
   "cell_type": "code",
   "execution_count": 7,
   "metadata": {
    "colab": {
     "base_uri": "https://localhost:8080/",
     "height": 282
    },
    "id": "215rMrKIGzOX",
    "outputId": "605bb0f6-bd0e-464d-f3d1-062baeb8dd69"
   },
   "outputs": [
    {
     "data": {
      "text/plain": [
       "[<matplotlib.lines.Line2D at 0x7fa78459ddd0>]"
      ]
     },
     "execution_count": 7,
     "metadata": {},
     "output_type": "execute_result"
    },
    {
     "data": {
      "image/png": "[encoded data removed]",
      "text/plain": [
       "<Figure size 432x288 with 1 Axes>"
      ]
     },
     "metadata": {
      "needs_background": "light"
     },
     "output_type": "display_data"
    }
   ],
   "source": [
    "vals = gradient_descent(0, 0, X, Y, .0001, 10)\n",
    "m_val = vals[1]\n",
    "b_val = vals[0]\n",
    "predictions = [(m_val * X[i]) + b_val for i in range(len(X))]\n",
    "plt.scatter(X, Y)\n",
    "plt.plot(X, predictions, color='r')"
   ]
  },
  {
   "cell_type": "markdown",
   "metadata": {
    "id": "5TTXZI-qOfhp"
   },
   "source": [
    "##Task 2 [BONUS]\n",
    "\n",
    "Now perform a similar regression model for $y = 3x-7$, and predict for $xϵ [-100,100]$, where you may determine necessary number of points. Also have to use `gradient_descent` function previously designed and hence plot the predicted graph. You may choose initial points, the range for delta ($Δ$), learning rate ($α$) and number of iteration (by trial and error) for which you will get better predicted outcome."
   ]
  },
  {
   "cell_type": "code",
   "execution_count": 8,
   "metadata": {
    "colab": {
     "base_uri": "https://localhost:8080/",
     "height": 282
    },
    "id": "7LX0_QFAOhb3",
    "outputId": "085215c6-3492-4b8d-b1ba-59c962fa6fc5"
   },
   "outputs": [
    {
     "data": {
      "text/plain": [
       "[<matplotlib.lines.Line2D at 0x7fa78451a8d0>]"
      ]
     },
     "execution_count": 8,
     "metadata": {},
     "output_type": "execute_result"
    },
    {
     "data": {
      "image/png": "[encoded data removed]",
      "text/plain": [
       "<Figure size 432x288 with 1 Axes>"
      ]
     },
     "metadata": {
      "needs_background": "light"
     },
     "output_type": "display_data"
    }
   ],
   "source": [
    "#YOUR CODE HERE\n",
    "x1 = np.linspace(0, 200, 50)  \n",
    "delta = np.random.uniform(-100, 100, X.size) \n",
    "y1 = 3*X - 7 + delta \n",
    "vals = gradient_descent(0, 0, x1, y1, .0001, 2)\n",
    "m_val = vals[1]\n",
    "b_val = vals[0]\n",
    "predictions = [(m_val * X[i]) + b_val for i in range(len(X))]\n",
    "plt.scatter(x1, y1)\n",
    "plt.plot(X, predictions, color='r')"
   ]
  }
 ],
 "metadata": {
  "colab": {
   "collapsed_sections": [],
   "name": "20301066__Assignment_4__Regression_with_Gradient_Descent_Lab_5_MAT215 (1).ipynb",
   "provenance": []
  },
  "kernelspec": {
   "display_name": "Python 3 (ipykernel)",
   "language": "python",
   "name": "python3"
  },
  "language_info": {
   "codemirror_mode": {
    "name": "ipython",
    "version": 3
   },
   "file_extension": ".py",
   "mimetype": "text/x-python",
   "name": "python",
   "nbconvert_exporter": "python",
   "pygments_lexer": "ipython3",
   "version": "3.9.7"
  }
 },
 "nbformat": 4,
 "nbformat_minor": 1
}
